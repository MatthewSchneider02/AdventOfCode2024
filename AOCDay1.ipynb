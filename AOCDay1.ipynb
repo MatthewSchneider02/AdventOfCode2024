{
 "cells": [
  {
   "cell_type": "code",
   "execution_count": 25,
   "id": "86eceb4b",
   "metadata": {},
   "outputs": [
    {
     "name": "stdout",
     "output_type": "stream",
     "text": [
      "First part result: 1646452\n",
      "Second part result: 23609874\n"
     ]
    }
   ],
   "source": [
    "#Notes and lists of historically significant locations\n",
    "#Locations are listed by a unique number called location ID\n",
    "\n",
    "#Task:\n",
    "#     Pair up the numbers in order from smallest to largest\n",
    "#     Determine the difference between the two values\n",
    "#     Determine the total difference between the lists \n",
    "#               (ie. add all the differences together)\n",
    "\n",
    "    \n",
    "def read_input():\n",
    "  left, right = [], []\n",
    "  with open(\"AOCDayOneInput.txt\") as file:\n",
    "    for line in file:\n",
    "      values = line.split(\"   \");\n",
    "      left.append(int(values[0]))\n",
    "      right.append(int(values[1]))\n",
    "\n",
    "  left.sort()\n",
    "  right.sort()\n",
    "\n",
    "  return left, right\n",
    "\n",
    "\n",
    "def first_part(left, right):\n",
    "  distances_sum = 0\n",
    "  for i in range(len(left)):\n",
    "    distances_sum += abs(left[i] - right[i])\n",
    "\n",
    "  return abs(distances_sum)\n",
    "\n",
    "\n",
    "def second_part(left, right):\n",
    "  product_sum = 0\n",
    "  for l_value in left:\n",
    "    product_sum += l_value * right.count(l_value)\n",
    "\n",
    "  return product_sum\n",
    "\n",
    "\n",
    "left, right = read_input();\n",
    "print(\"First part result: \" + str(first_part(left, right)))\n",
    "print(\"Second part result: \" + str(second_part(left, right)))"
   ]
  },
  {
   "cell_type": "code",
   "execution_count": null,
   "id": "6cda2668",
   "metadata": {},
   "outputs": [],
   "source": []
  },
  {
   "cell_type": "code",
   "execution_count": null,
   "id": "948fe9df",
   "metadata": {},
   "outputs": [],
   "source": []
  }
 ],
 "metadata": {
  "kernelspec": {
   "display_name": "Python 3 (ipykernel)",
   "language": "python",
   "name": "python3"
  },
  "language_info": {
   "codemirror_mode": {
    "name": "ipython",
    "version": 3
   },
   "file_extension": ".py",
   "mimetype": "text/x-python",
   "name": "python",
   "nbconvert_exporter": "python",
   "pygments_lexer": "ipython3",
   "version": "3.11.5"
  }
 },
 "nbformat": 4,
 "nbformat_minor": 5
}
